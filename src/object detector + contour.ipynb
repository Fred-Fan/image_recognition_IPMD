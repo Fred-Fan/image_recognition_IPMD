{
 "cells": [
  {
   "cell_type": "code",
   "execution_count": 1,
   "metadata": {
    "collapsed": true
   },
   "outputs": [],
   "source": [
    "import imutils\n",
    "import dlib\n",
    "import cv2\n",
    "import copy\n",
    "import math\n",
    "import numpy as np\n"
   ]
  },
  {
   "cell_type": "code",
   "execution_count": 2,
   "metadata": {
    "collapsed": true
   },
   "outputs": [],
   "source": [
    "\n",
    "def calculateFingers(res,drawing):  # -> finished bool, cnt: finger count\n",
    "    #  convexity defect\n",
    "    hull = cv2.convexHull(res, returnPoints=False)\n",
    "    if len(hull) > 3:\n",
    "        defects = cv2.convexityDefects(res, hull)\n",
    "        if type(defects) != type(None):  # avoid crashing.   (BUG not found)\n",
    "\n",
    "            cnt = 0\n",
    "            for i in range(defects.shape[0]):  # calculate the angle\n",
    "                s, e, f, d = defects[i][0]\n",
    "                start = tuple(res[s][0])\n",
    "                end = tuple(res[e][0])\n",
    "                far = tuple(res[f][0])\n",
    "                a = math.sqrt((end[0] - start[0]) ** 2 + (end[1] - start[1]) ** 2)\n",
    "                b = math.sqrt((far[0] - start[0]) ** 2 + (far[1] - start[1]) ** 2)\n",
    "                c = math.sqrt((end[0] - far[0]) ** 2 + (end[1] - far[1]) ** 2)\n",
    "                angle = math.acos((b ** 2 + c ** 2 - a ** 2) / (2 * b * c))  # cosine theorem\n",
    "                if angle <= math.pi / 2:  # angle less than 90 degree, treat as fingers\n",
    "                    cnt += 1\n",
    "                    cv2.circle(drawing, far, 8, [211, 84, 0], -1)\n",
    "            return True, cnt\n",
    "    return False, 0"
   ]
  },
  {
   "cell_type": "code",
   "execution_count": 3,
   "metadata": {
    "collapsed": true
   },
   "outputs": [],
   "source": [
    "# Now let's use the detector as you would in a normal application.  First we\n",
    "# will load it from disk.\n",
    "detector = dlib.simple_object_detector(\"detector_hand.svm\")\n"
   ]
  },
  {
   "cell_type": "code",
   "execution_count": 13,
   "metadata": {
    "collapsed": false
   },
   "outputs": [],
   "source": [
    "image = cv2.imread(\"dataset\\\\images.jpg\")\n",
    "image = imutils.resize(image, width=500)\n",
    "gray = cv2.cvtColor(image, cv2.COLOR_BGR2GRAY)"
   ]
  },
  {
   "cell_type": "code",
   "execution_count": 14,
   "metadata": {
    "collapsed": false
   },
   "outputs": [],
   "source": [
    "cv2.imshow('ori',gray)\n",
    "k = cv2.waitKey(0)"
   ]
  },
  {
   "cell_type": "code",
   "execution_count": 15,
   "metadata": {
    "collapsed": false
   },
   "outputs": [],
   "source": [
    "rects = detector(gray)"
   ]
  },
  {
   "cell_type": "code",
   "execution_count": 16,
   "metadata": {
    "collapsed": false
   },
   "outputs": [
    {
     "name": "stdout",
     "output_type": "stream",
     "text": [
      "0 [(257, 161) (472, 376)]\n"
     ]
    }
   ],
   "source": [
    "for k, d in enumerate(rects):\n",
    "    print(k,d)"
   ]
  },
  {
   "cell_type": "code",
   "execution_count": 17,
   "metadata": {
    "collapsed": false
   },
   "outputs": [
    {
     "name": "stdout",
     "output_type": "stream",
     "text": [
      "Detection 0: Left: 257 Top: 161 Right: 472 Bottom: 376\n"
     ]
    }
   ],
   "source": [
    "for k, d in enumerate(rects):\n",
    "    print(\"Detection {}: Left: {} Top: {} Right: {} Bottom: {}\".format(\n",
    "        k, d.left(), d.top(), d.right(), d.bottom()))"
   ]
  },
  {
   "cell_type": "code",
   "execution_count": 18,
   "metadata": {
    "collapsed": false
   },
   "outputs": [],
   "source": [
    "roi = gray[d.top():d.bottom(), d.left():d.right()]"
   ]
  },
  {
   "cell_type": "code",
   "execution_count": 19,
   "metadata": {
    "collapsed": false,
    "scrolled": true
   },
   "outputs": [],
   "source": [
    "ret, thresh_fin = cv2.threshold(roi, 150, 255, cv2.THRESH_BINARY)\n",
    "\n",
    "for i in range(170, 190, 20):\n",
    "    ret, thresh = cv2.threshold(roi, i, 255, cv2.THRESH_BINARY)\n",
    "    thresh_fin += thresh\n",
    "mb = cv2.medianBlur(thresh_fin,3)\n",
    "cv2.imshow('ori', mb)\n",
    "\n",
    "\n",
    "# get the coutours\n",
    "thresh1 = copy.deepcopy(mb)\n",
    "im2, contours, hierarchy = cv2.findContours(thresh1, cv2.RETR_TREE, cv2.CHAIN_APPROX_SIMPLE)\n",
    "length = len(contours)\n",
    "maxArea = -1\n",
    "if length > 0:\n",
    "    for i in range(length):  # find the biggest contour (according to area)\n",
    "        temp = contours[i]\n",
    "        area = cv2.contourArea(temp)\n",
    "        if area > maxArea:\n",
    "            maxArea = area\n",
    "            ci = i\n",
    "\n",
    "    res = contours[ci]\n",
    "    res = res + [d.left(),d.top()]\n",
    "    hull = cv2.convexHull(res)\n",
    "    \n",
    "    drawing = image\n",
    "    cv2.drawContours(drawing, [res], 0, (0, 255, 0), 2)\n",
    "    cv2.drawContours(drawing, [hull], 0, (0, 0, 255), 3)\n",
    "    \n",
    "    drawing1 = np.zeros(image.shape, np.uint8)\n",
    "    cv2.drawContours(drawing1, [res], 0, (0, 255, 0), 2)\n",
    "    cv2.drawContours(drawing1, [hull], 0, (0, 0, 255), 3)\n",
    "\n",
    "cv2.imshow('contour-ori', drawing)\n",
    "cv2.imshow('contour-black', drawing1)\n",
    "#    isFinishCal,cnt = calculateFingers(res,drawing)\n",
    "#    if isFinishCal is True and cnt <= 2:\n",
    "#        print(cnt)\n",
    "            #app('System Events').keystroke(' ')  # simulate pressing blank space\n",
    "\n",
    "k = cv2.waitKey(0)"
   ]
  },
  {
   "cell_type": "code",
   "execution_count": null,
   "metadata": {
    "collapsed": true
   },
   "outputs": [],
   "source": []
  }
 ],
 "metadata": {
  "kernelspec": {
   "display_name": "py35",
   "language": "python",
   "name": "py35"
  },
  "language_info": {
   "codemirror_mode": {
    "name": "ipython",
    "version": 3
   },
   "file_extension": ".py",
   "mimetype": "text/x-python",
   "name": "python",
   "nbconvert_exporter": "python",
   "pygments_lexer": "ipython3",
   "version": "3.5.3"
  }
 },
 "nbformat": 4,
 "nbformat_minor": 2
}
